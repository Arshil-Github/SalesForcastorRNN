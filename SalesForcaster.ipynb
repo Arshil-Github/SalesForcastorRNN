{
 "cells": [
  {
   "cell_type": "code",
   "execution_count": 4,
   "metadata": {},
   "outputs": [],
   "source": [
    "import pandas as pd\n",
    "import numpy as np\n",
    "import matplotlib.pyplot as plt\n",
    "import tensorflow as tf\n",
    "from tensorflow import keras\n",
    "from tensorflow.keras import layers\n",
    "from sklearn.model_selection import train_test_split\n",
    "from sklearn.preprocessing import StandardScaler\n",
    "from sklearn.metrics import mean_absolute_error\n",
    "from sklearn.preprocessing import MinMaxScaler, QuantileTransformer\n",
    "from tensorflow.keras import  callbacks\n",
    "from tensorflow.keras.optimizers import Adam"
   ]
  },
  {
   "cell_type": "code",
   "execution_count": 5,
   "metadata": {},
   "outputs": [],
   "source": [
    "def engineer_features(df):\n",
    "    \"\"\"Add engineered features to better capture sales patterns\"\"\"\n",
    "    df_enhanced = df.copy()\n",
    "    \n",
    "    # Add rolling statistics\n",
    "    df_enhanced['rolling_mean_7d'] = df_enhanced['Units Sold'].rolling(window=7).mean()\n",
    "    df_enhanced['rolling_std_7d'] = df_enhanced['Units Sold'].rolling(window=7).std()\n",
    "    \n",
    "    # Add cyclical time features\n",
    "    df_enhanced['day_sin'] = np.sin(2 * np.pi * df_enhanced['Day']/31.0)\n",
    "    df_enhanced['day_cos'] = np.cos(2 * np.pi * df_enhanced['Day']/31.0)\n",
    "    df_enhanced['month_sin'] = np.sin(2 * np.pi * df_enhanced['Month']/12.0)\n",
    "    df_enhanced['month_cos'] = np.cos(2 * np.pi * df_enhanced['Month']/12.0)\n",
    "    \n",
    "    # Add lag features\n",
    "    df_enhanced['lag_1'] = df_enhanced['Units Sold'].shift(1)\n",
    "    df_enhanced['lag_7'] = df_enhanced['Units Sold'].shift(7)\n",
    "    \n",
    "    # Fill NaN values created by rolling windows and lags\n",
    "    df_enhanced = df_enhanced.fillna(method='bfill')\n",
    "    \n",
    "    return df_enhanced"
   ]
  },
  {
   "cell_type": "code",
   "execution_count": 6,
   "metadata": {},
   "outputs": [],
   "source": [
    "def generate_sequences(df, sequence_length = 60):\n",
    "    X, y  = [], []\n",
    "    for i in range(len(df)- sequence_length):\n",
    "        j = i+sequence_length\n",
    "        X.append(df.iloc[i : j].values)\n",
    "        y.append(df[\"Units Sold\"].iloc[j])\n",
    "\n",
    "    X = np.array(X)\n",
    "    y = np.array(y)\n",
    "    return X, y"
   ]
  },
  {
   "cell_type": "code",
   "execution_count": 7,
   "metadata": {},
   "outputs": [],
   "source": [
    "def get_model(X):\n",
    "    lstm_model = keras.Sequential([\n",
    "        layers.Input(shape=(X.shape[1], X.shape[2])),\n",
    "        layers.BatchNormalization(),\n",
    "\n",
    "        layers.Bidirectional(layers.LSTM(128, return_sequences=True, kernel_regularizer=tf.keras.regularizers.l2(0.01))),\n",
    "        layers.BatchNormalization(),\n",
    "        layers.Dropout(0.2),\n",
    "\n",
    "        layers.Bidirectional(layers.LSTM(64, return_sequences=True, kernel_regularizer=tf.keras.regularizers.l2(0.01))),\n",
    "        layers.BatchNormalization(),\n",
    "        layers.Dropout(0.2),\n",
    "\n",
    "\n",
    "        layers.Bidirectional(layers.LSTM(32)),\n",
    "        layers.BatchNormalization(),\n",
    "        layers.Dropout(0.2),\n",
    "\n",
    "\n",
    "        layers.Dense(32, activation='relu'),\n",
    "        layers.BatchNormalization(),\n",
    "        layers.Dense(16, activation='relu'),\n",
    "        layers.Dense(1),\n",
    "    ])\n",
    "\n",
    "\n",
    "    optimizer = tf.keras.optimizers.AdamW(\n",
    "        learning_rate=0.001,\n",
    "        weight_decay=0.001\n",
    "    )\n",
    "\n",
    "    lstm_model.compile(\n",
    "        optimizer=optimizer,\n",
    "        loss=tf.keras.losses.Huber(delta=1.0),\n",
    "        metrics=['mae', 'mse']\n",
    "    )\n",
    "    return lstm_model"
   ]
  },
  {
   "cell_type": "code",
   "execution_count": 10,
   "metadata": {},
   "outputs": [],
   "source": [
    "def get_callbacks(patience_lr=5, patience_stop=10):\n",
    "    callbacks_list = [\n",
    "        # Learning rate reduction\n",
    "        callbacks.ReduceLROnPlateau(\n",
    "            monitor='val_loss',\n",
    "            factor=0.2,\n",
    "            patience=patience_lr,\n",
    "            min_lr=1e-6,\n",
    "            verbose=1\n",
    "        ),\n",
    "        # Early stopping\n",
    "        callbacks.EarlyStopping(\n",
    "            monitor='val_loss',\n",
    "            patience=patience_stop,\n",
    "            restore_best_weights=True,\n",
    "            verbose=1\n",
    "        ),\n",
    "    ]\n",
    "    return callbacks_list"
   ]
  },
  {
   "cell_type": "code",
   "execution_count": 11,
   "metadata": {},
   "outputs": [],
   "source": [
    "def train_model(X_train, y_train, model, callbacks_list, epochs=50):\n",
    "    batch_size = min(64, 2**int(np.log2(len(X_train)/100)))\n",
    "    callbacks_list = get_callbacks()\n",
    "\n",
    "    history = model.fit(\n",
    "        X_train, \n",
    "        y_train, \n",
    "        epochs=epochs, \n",
    "        batch_size=batch_size, \n",
    "        verbose=1, \n",
    "        validation_split=0.2, \n",
    "        callbacks=callbacks_list\n",
    "    )\n",
    "    return history"
   ]
  },
  {
   "cell_type": "code",
   "execution_count": 12,
   "metadata": {},
   "outputs": [],
   "source": [
    "def plot_loss(history):\n",
    "    train_loss = history.history['loss']\n",
    "    val_loss = history.history['val_loss'] \n",
    "    plt.figure(figsize=(8, 5))  # Adjust figure size as needed# Label accordingly\n",
    "    plt.title('Training and Validation Loss/Accuracy')\n",
    "    plt.plot(train_loss, label='Training Loss')\n",
    "    plt.plot(val_loss, label='Validation Loss')\n",
    "    plt.legend()\n",
    "    plt.show()"
   ]
  },
  {
   "cell_type": "code",
   "execution_count": null,
   "metadata": {},
   "outputs": [],
   "source": []
  }
 ],
 "metadata": {
  "kernelspec": {
   "display_name": "ML_Environment_1",
   "language": "python",
   "name": "python3"
  },
  "language_info": {
   "codemirror_mode": {
    "name": "ipython",
    "version": 3
   },
   "file_extension": ".py",
   "mimetype": "text/x-python",
   "name": "python",
   "nbconvert_exporter": "python",
   "pygments_lexer": "ipython3",
   "version": "3.12.7"
  }
 },
 "nbformat": 4,
 "nbformat_minor": 2
}
